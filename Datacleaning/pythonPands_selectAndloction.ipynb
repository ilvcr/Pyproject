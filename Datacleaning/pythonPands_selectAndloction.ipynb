{
 "cells": [
  {
   "cell_type": "code",
   "execution_count": 2,
   "metadata": {
    "collapsed": true
   },
   "outputs": [],
   "source": [
    "#Python Pandas 常用方法\n",
    "#引入包  \n",
    "import pandas as pd \n",
    "import numpy as np"
   ]
  },
  {
   "cell_type": "code",
   "execution_count": 3,
   "metadata": {
    "collapsed": true
   },
   "outputs": [],
   "source": [
    "#创建对象\n",
    "#1->通过传递一个list对象来创建一个Series\n",
    "\n",
    "s = pd.Series([1, 3, 5, np.nan, 6, 8])"
   ]
  },
  {
   "cell_type": "code",
   "execution_count": 4,
   "metadata": {
    "collapsed": false
   },
   "outputs": [
    {
     "data": {
      "text/plain": [
       "0    1.0\n",
       "1    3.0\n",
       "2    5.0\n",
       "3    NaN\n",
       "4    6.0\n",
       "5    8.0\n",
       "dtype: float64"
      ]
     },
     "execution_count": 4,
     "metadata": {},
     "output_type": "execute_result"
    }
   ],
   "source": [
    "s"
   ]
  },
  {
   "cell_type": "code",
   "execution_count": 5,
   "metadata": {
    "collapsed": true
   },
   "outputs": [],
   "source": [
    "#2->通过传递一个numpy array, 时间索引以及列标签来创建一个DataFrame\n",
    "dates = pd.date_range('20180101',periods=6)"
   ]
  },
  {
   "cell_type": "code",
   "execution_count": 6,
   "metadata": {
    "collapsed": false
   },
   "outputs": [
    {
     "data": {
      "text/plain": [
       "DatetimeIndex(['2018-01-01', '2018-01-02', '2018-01-03', '2018-01-04',\n",
       "               '2018-01-05', '2018-01-06'],\n",
       "              dtype='datetime64[ns]', freq='D')"
      ]
     },
     "execution_count": 6,
     "metadata": {},
     "output_type": "execute_result"
    }
   ],
   "source": [
    "dates"
   ]
  },
  {
   "cell_type": "code",
   "execution_count": 7,
   "metadata": {
    "collapsed": true
   },
   "outputs": [],
   "source": [
    "df = pd.DataFrame(np.random.randn(6, 4), index=dates, columns=list('ABCD'))"
   ]
  },
  {
   "cell_type": "code",
   "execution_count": 8,
   "metadata": {
    "collapsed": false
   },
   "outputs": [
    {
     "data": {
      "text/html": [
       "<div>\n",
       "<table border=\"1\" class=\"dataframe\">\n",
       "  <thead>\n",
       "    <tr style=\"text-align: right;\">\n",
       "      <th></th>\n",
       "      <th>A</th>\n",
       "      <th>B</th>\n",
       "      <th>C</th>\n",
       "      <th>D</th>\n",
       "    </tr>\n",
       "  </thead>\n",
       "  <tbody>\n",
       "    <tr>\n",
       "      <th>2018-01-01</th>\n",
       "      <td>1.662617</td>\n",
       "      <td>0.583533</td>\n",
       "      <td>0.555059</td>\n",
       "      <td>-0.271874</td>\n",
       "    </tr>\n",
       "    <tr>\n",
       "      <th>2018-01-02</th>\n",
       "      <td>0.256219</td>\n",
       "      <td>-0.298014</td>\n",
       "      <td>-0.972340</td>\n",
       "      <td>-1.114136</td>\n",
       "    </tr>\n",
       "    <tr>\n",
       "      <th>2018-01-03</th>\n",
       "      <td>0.210984</td>\n",
       "      <td>0.025582</td>\n",
       "      <td>-0.347350</td>\n",
       "      <td>1.725899</td>\n",
       "    </tr>\n",
       "    <tr>\n",
       "      <th>2018-01-04</th>\n",
       "      <td>-0.467886</td>\n",
       "      <td>-1.917292</td>\n",
       "      <td>1.841906</td>\n",
       "      <td>0.467838</td>\n",
       "    </tr>\n",
       "    <tr>\n",
       "      <th>2018-01-05</th>\n",
       "      <td>0.780441</td>\n",
       "      <td>-1.225412</td>\n",
       "      <td>1.107261</td>\n",
       "      <td>0.326419</td>\n",
       "    </tr>\n",
       "    <tr>\n",
       "      <th>2018-01-06</th>\n",
       "      <td>-0.169321</td>\n",
       "      <td>0.139376</td>\n",
       "      <td>-0.965705</td>\n",
       "      <td>-0.184502</td>\n",
       "    </tr>\n",
       "  </tbody>\n",
       "</table>\n",
       "</div>"
      ],
      "text/plain": [
       "                   A         B         C         D\n",
       "2018-01-01  1.662617  0.583533  0.555059 -0.271874\n",
       "2018-01-02  0.256219 -0.298014 -0.972340 -1.114136\n",
       "2018-01-03  0.210984  0.025582 -0.347350  1.725899\n",
       "2018-01-04 -0.467886 -1.917292  1.841906  0.467838\n",
       "2018-01-05  0.780441 -1.225412  1.107261  0.326419\n",
       "2018-01-06 -0.169321  0.139376 -0.965705 -0.184502"
      ]
     },
     "execution_count": 8,
     "metadata": {},
     "output_type": "execute_result"
    }
   ],
   "source": [
    "df"
   ]
  },
  {
   "cell_type": "code",
   "execution_count": 9,
   "metadata": {
    "collapsed": true
   },
   "outputs": [],
   "source": [
    "#3->通过传递一个能够被转换成类似序列结构的字典对象来创建一个DataFrame\n",
    "df2 = pd.DataFrame({\n",
    "        'A' : 1.,\n",
    "        'B' : pd.Timestamp('20180102'),\n",
    "        'C' : pd.Series(1, index=list(range(4)),dtype='float32'),\n",
    "        'D' : np.array([3] * 4, dtype='int32'),\n",
    "        'E' : pd.Categorical([\"test\", \"train\", \"test\", \"train\"]),\n",
    "        'F' : 'foo'\n",
    "    })"
   ]
  },
  {
   "cell_type": "code",
   "execution_count": 10,
   "metadata": {
    "collapsed": false
   },
   "outputs": [
    {
     "data": {
      "text/html": [
       "<div>\n",
       "<table border=\"1\" class=\"dataframe\">\n",
       "  <thead>\n",
       "    <tr style=\"text-align: right;\">\n",
       "      <th></th>\n",
       "      <th>A</th>\n",
       "      <th>B</th>\n",
       "      <th>C</th>\n",
       "      <th>D</th>\n",
       "      <th>E</th>\n",
       "      <th>F</th>\n",
       "    </tr>\n",
       "  </thead>\n",
       "  <tbody>\n",
       "    <tr>\n",
       "      <th>0</th>\n",
       "      <td>1.0</td>\n",
       "      <td>2018-01-02</td>\n",
       "      <td>1.0</td>\n",
       "      <td>3</td>\n",
       "      <td>test</td>\n",
       "      <td>foo</td>\n",
       "    </tr>\n",
       "    <tr>\n",
       "      <th>1</th>\n",
       "      <td>1.0</td>\n",
       "      <td>2018-01-02</td>\n",
       "      <td>1.0</td>\n",
       "      <td>3</td>\n",
       "      <td>train</td>\n",
       "      <td>foo</td>\n",
       "    </tr>\n",
       "    <tr>\n",
       "      <th>2</th>\n",
       "      <td>1.0</td>\n",
       "      <td>2018-01-02</td>\n",
       "      <td>1.0</td>\n",
       "      <td>3</td>\n",
       "      <td>test</td>\n",
       "      <td>foo</td>\n",
       "    </tr>\n",
       "    <tr>\n",
       "      <th>3</th>\n",
       "      <td>1.0</td>\n",
       "      <td>2018-01-02</td>\n",
       "      <td>1.0</td>\n",
       "      <td>3</td>\n",
       "      <td>train</td>\n",
       "      <td>foo</td>\n",
       "    </tr>\n",
       "  </tbody>\n",
       "</table>\n",
       "</div>"
      ],
      "text/plain": [
       "     A          B    C  D      E    F\n",
       "0  1.0 2018-01-02  1.0  3   test  foo\n",
       "1  1.0 2018-01-02  1.0  3  train  foo\n",
       "2  1.0 2018-01-02  1.0  3   test  foo\n",
       "3  1.0 2018-01-02  1.0  3  train  foo"
      ]
     },
     "execution_count": 10,
     "metadata": {},
     "output_type": "execute_result"
    }
   ],
   "source": [
    "df2"
   ]
  },
  {
   "cell_type": "code",
   "execution_count": 11,
   "metadata": {
    "collapsed": false
   },
   "outputs": [
    {
     "data": {
      "text/plain": [
       "A           float64\n",
       "B    datetime64[ns]\n",
       "C           float32\n",
       "D             int32\n",
       "E          category\n",
       "F            object\n",
       "dtype: object"
      ]
     },
     "execution_count": 11,
     "metadata": {},
     "output_type": "execute_result"
    }
   ],
   "source": [
    "#4->查看不同的数据类型\n",
    "df2.dtypes"
   ]
  },
  {
   "cell_type": "code",
   "execution_count": null,
   "metadata": {
    "collapsed": true
   },
   "outputs": [],
   "source": []
  },
  {
   "cell_type": "code",
   "execution_count": 12,
   "metadata": {
    "collapsed": false
   },
   "outputs": [
    {
     "data": {
      "text/html": [
       "<div>\n",
       "<table border=\"1\" class=\"dataframe\">\n",
       "  <thead>\n",
       "    <tr style=\"text-align: right;\">\n",
       "      <th></th>\n",
       "      <th>A</th>\n",
       "      <th>B</th>\n",
       "      <th>C</th>\n",
       "      <th>D</th>\n",
       "    </tr>\n",
       "  </thead>\n",
       "  <tbody>\n",
       "    <tr>\n",
       "      <th>2018-01-01</th>\n",
       "      <td>1.662617</td>\n",
       "      <td>0.583533</td>\n",
       "      <td>0.555059</td>\n",
       "      <td>-0.271874</td>\n",
       "    </tr>\n",
       "    <tr>\n",
       "      <th>2018-01-02</th>\n",
       "      <td>0.256219</td>\n",
       "      <td>-0.298014</td>\n",
       "      <td>-0.972340</td>\n",
       "      <td>-1.114136</td>\n",
       "    </tr>\n",
       "    <tr>\n",
       "      <th>2018-01-03</th>\n",
       "      <td>0.210984</td>\n",
       "      <td>0.025582</td>\n",
       "      <td>-0.347350</td>\n",
       "      <td>1.725899</td>\n",
       "    </tr>\n",
       "    <tr>\n",
       "      <th>2018-01-04</th>\n",
       "      <td>-0.467886</td>\n",
       "      <td>-1.917292</td>\n",
       "      <td>1.841906</td>\n",
       "      <td>0.467838</td>\n",
       "    </tr>\n",
       "    <tr>\n",
       "      <th>2018-01-05</th>\n",
       "      <td>0.780441</td>\n",
       "      <td>-1.225412</td>\n",
       "      <td>1.107261</td>\n",
       "      <td>0.326419</td>\n",
       "    </tr>\n",
       "  </tbody>\n",
       "</table>\n",
       "</div>"
      ],
      "text/plain": [
       "                   A         B         C         D\n",
       "2018-01-01  1.662617  0.583533  0.555059 -0.271874\n",
       "2018-01-02  0.256219 -0.298014 -0.972340 -1.114136\n",
       "2018-01-03  0.210984  0.025582 -0.347350  1.725899\n",
       "2018-01-04 -0.467886 -1.917292  1.841906  0.467838\n",
       "2018-01-05  0.780441 -1.225412  1.107261  0.326419"
      ]
     },
     "execution_count": 12,
     "metadata": {},
     "output_type": "execute_result"
    }
   ],
   "source": [
    "#查看数据\n",
    "#1->查看frame中头部和尾部的行\n",
    "df.head()"
   ]
  },
  {
   "cell_type": "code",
   "execution_count": 13,
   "metadata": {
    "collapsed": false
   },
   "outputs": [
    {
     "data": {
      "text/html": [
       "<div>\n",
       "<table border=\"1\" class=\"dataframe\">\n",
       "  <thead>\n",
       "    <tr style=\"text-align: right;\">\n",
       "      <th></th>\n",
       "      <th>A</th>\n",
       "      <th>B</th>\n",
       "      <th>C</th>\n",
       "      <th>D</th>\n",
       "    </tr>\n",
       "  </thead>\n",
       "  <tbody>\n",
       "    <tr>\n",
       "      <th>2018-01-04</th>\n",
       "      <td>-0.467886</td>\n",
       "      <td>-1.917292</td>\n",
       "      <td>1.841906</td>\n",
       "      <td>0.467838</td>\n",
       "    </tr>\n",
       "    <tr>\n",
       "      <th>2018-01-05</th>\n",
       "      <td>0.780441</td>\n",
       "      <td>-1.225412</td>\n",
       "      <td>1.107261</td>\n",
       "      <td>0.326419</td>\n",
       "    </tr>\n",
       "    <tr>\n",
       "      <th>2018-01-06</th>\n",
       "      <td>-0.169321</td>\n",
       "      <td>0.139376</td>\n",
       "      <td>-0.965705</td>\n",
       "      <td>-0.184502</td>\n",
       "    </tr>\n",
       "  </tbody>\n",
       "</table>\n",
       "</div>"
      ],
      "text/plain": [
       "                   A         B         C         D\n",
       "2018-01-04 -0.467886 -1.917292  1.841906  0.467838\n",
       "2018-01-05  0.780441 -1.225412  1.107261  0.326419\n",
       "2018-01-06 -0.169321  0.139376 -0.965705 -0.184502"
      ]
     },
     "execution_count": 13,
     "metadata": {},
     "output_type": "execute_result"
    }
   ],
   "source": [
    "df.tail(3)"
   ]
  },
  {
   "cell_type": "code",
   "execution_count": 14,
   "metadata": {
    "collapsed": true
   },
   "outputs": [],
   "source": [
    "#2->显示索引/列和底层的numpy数据：df.index, df.columns, df.values"
   ]
  },
  {
   "cell_type": "code",
   "execution_count": 15,
   "metadata": {
    "collapsed": false
   },
   "outputs": [
    {
     "data": {
      "text/plain": [
       "DatetimeIndex(['2018-01-01', '2018-01-02', '2018-01-03', '2018-01-04',\n",
       "               '2018-01-05', '2018-01-06'],\n",
       "              dtype='datetime64[ns]', freq='D')"
      ]
     },
     "execution_count": 15,
     "metadata": {},
     "output_type": "execute_result"
    }
   ],
   "source": [
    "df.index"
   ]
  },
  {
   "cell_type": "code",
   "execution_count": 16,
   "metadata": {
    "collapsed": false
   },
   "outputs": [
    {
     "data": {
      "text/plain": [
       "Index(['A', 'B', 'C', 'D'], dtype='object')"
      ]
     },
     "execution_count": 16,
     "metadata": {},
     "output_type": "execute_result"
    }
   ],
   "source": [
    "df.columns"
   ]
  },
  {
   "cell_type": "code",
   "execution_count": 17,
   "metadata": {
    "collapsed": false
   },
   "outputs": [
    {
     "data": {
      "text/plain": [
       "array([[ 1.66261729,  0.5835332 ,  0.55505876, -0.2718739 ],\n",
       "       [ 0.25621889, -0.29801445, -0.97234021, -1.11413555],\n",
       "       [ 0.21098351,  0.02558152, -0.34734985,  1.7258988 ],\n",
       "       [-0.46788641, -1.91729236,  1.84190599,  0.46783786],\n",
       "       [ 0.78044119, -1.22541242,  1.10726099,  0.32641895],\n",
       "       [-0.1693209 ,  0.13937644, -0.96570486, -0.18450195]])"
      ]
     },
     "execution_count": 17,
     "metadata": {},
     "output_type": "execute_result"
    }
   ],
   "source": [
    "df.values"
   ]
  },
  {
   "cell_type": "code",
   "execution_count": 18,
   "metadata": {
    "collapsed": false
   },
   "outputs": [
    {
     "data": {
      "text/html": [
       "<div>\n",
       "<table border=\"1\" class=\"dataframe\">\n",
       "  <thead>\n",
       "    <tr style=\"text-align: right;\">\n",
       "      <th></th>\n",
       "      <th>A</th>\n",
       "      <th>B</th>\n",
       "      <th>C</th>\n",
       "      <th>D</th>\n",
       "    </tr>\n",
       "  </thead>\n",
       "  <tbody>\n",
       "    <tr>\n",
       "      <th>count</th>\n",
       "      <td>6.000000</td>\n",
       "      <td>6.000000</td>\n",
       "      <td>6.000000</td>\n",
       "      <td>6.000000</td>\n",
       "    </tr>\n",
       "    <tr>\n",
       "      <th>mean</th>\n",
       "      <td>0.378842</td>\n",
       "      <td>-0.448705</td>\n",
       "      <td>0.203138</td>\n",
       "      <td>0.158274</td>\n",
       "    </tr>\n",
       "    <tr>\n",
       "      <th>std</th>\n",
       "      <td>0.757629</td>\n",
       "      <td>0.940110</td>\n",
       "      <td>1.155667</td>\n",
       "      <td>0.949010</td>\n",
       "    </tr>\n",
       "    <tr>\n",
       "      <th>min</th>\n",
       "      <td>-0.467886</td>\n",
       "      <td>-1.917292</td>\n",
       "      <td>-0.972340</td>\n",
       "      <td>-1.114136</td>\n",
       "    </tr>\n",
       "    <tr>\n",
       "      <th>25%</th>\n",
       "      <td>-0.074245</td>\n",
       "      <td>-0.993563</td>\n",
       "      <td>-0.811116</td>\n",
       "      <td>-0.250031</td>\n",
       "    </tr>\n",
       "    <tr>\n",
       "      <th>50%</th>\n",
       "      <td>0.233601</td>\n",
       "      <td>-0.136216</td>\n",
       "      <td>0.103854</td>\n",
       "      <td>0.070959</td>\n",
       "    </tr>\n",
       "    <tr>\n",
       "      <th>75%</th>\n",
       "      <td>0.649386</td>\n",
       "      <td>0.110928</td>\n",
       "      <td>0.969210</td>\n",
       "      <td>0.432483</td>\n",
       "    </tr>\n",
       "    <tr>\n",
       "      <th>max</th>\n",
       "      <td>1.662617</td>\n",
       "      <td>0.583533</td>\n",
       "      <td>1.841906</td>\n",
       "      <td>1.725899</td>\n",
       "    </tr>\n",
       "  </tbody>\n",
       "</table>\n",
       "</div>"
      ],
      "text/plain": [
       "              A         B         C         D\n",
       "count  6.000000  6.000000  6.000000  6.000000\n",
       "mean   0.378842 -0.448705  0.203138  0.158274\n",
       "std    0.757629  0.940110  1.155667  0.949010\n",
       "min   -0.467886 -1.917292 -0.972340 -1.114136\n",
       "25%   -0.074245 -0.993563 -0.811116 -0.250031\n",
       "50%    0.233601 -0.136216  0.103854  0.070959\n",
       "75%    0.649386  0.110928  0.969210  0.432483\n",
       "max    1.662617  0.583533  1.841906  1.725899"
      ]
     },
     "execution_count": 18,
     "metadata": {},
     "output_type": "execute_result"
    }
   ],
   "source": [
    "#3->describe()函数对于数据的快速统计汇总  df.describe()\n",
    "df.describe()"
   ]
  },
  {
   "cell_type": "code",
   "execution_count": 19,
   "metadata": {
    "collapsed": false
   },
   "outputs": [
    {
     "data": {
      "text/html": [
       "<div>\n",
       "<table border=\"1\" class=\"dataframe\">\n",
       "  <thead>\n",
       "    <tr style=\"text-align: right;\">\n",
       "      <th></th>\n",
       "      <th>2018-01-01 00:00:00</th>\n",
       "      <th>2018-01-02 00:00:00</th>\n",
       "      <th>2018-01-03 00:00:00</th>\n",
       "      <th>2018-01-04 00:00:00</th>\n",
       "      <th>2018-01-05 00:00:00</th>\n",
       "      <th>2018-01-06 00:00:00</th>\n",
       "    </tr>\n",
       "  </thead>\n",
       "  <tbody>\n",
       "    <tr>\n",
       "      <th>A</th>\n",
       "      <td>1.662617</td>\n",
       "      <td>0.256219</td>\n",
       "      <td>0.210984</td>\n",
       "      <td>-0.467886</td>\n",
       "      <td>0.780441</td>\n",
       "      <td>-0.169321</td>\n",
       "    </tr>\n",
       "    <tr>\n",
       "      <th>B</th>\n",
       "      <td>0.583533</td>\n",
       "      <td>-0.298014</td>\n",
       "      <td>0.025582</td>\n",
       "      <td>-1.917292</td>\n",
       "      <td>-1.225412</td>\n",
       "      <td>0.139376</td>\n",
       "    </tr>\n",
       "    <tr>\n",
       "      <th>C</th>\n",
       "      <td>0.555059</td>\n",
       "      <td>-0.972340</td>\n",
       "      <td>-0.347350</td>\n",
       "      <td>1.841906</td>\n",
       "      <td>1.107261</td>\n",
       "      <td>-0.965705</td>\n",
       "    </tr>\n",
       "    <tr>\n",
       "      <th>D</th>\n",
       "      <td>-0.271874</td>\n",
       "      <td>-1.114136</td>\n",
       "      <td>1.725899</td>\n",
       "      <td>0.467838</td>\n",
       "      <td>0.326419</td>\n",
       "      <td>-0.184502</td>\n",
       "    </tr>\n",
       "  </tbody>\n",
       "</table>\n",
       "</div>"
      ],
      "text/plain": [
       "   2018-01-01  2018-01-02  2018-01-03  2018-01-04  2018-01-05  2018-01-06\n",
       "A    1.662617    0.256219    0.210984   -0.467886    0.780441   -0.169321\n",
       "B    0.583533   -0.298014    0.025582   -1.917292   -1.225412    0.139376\n",
       "C    0.555059   -0.972340   -0.347350    1.841906    1.107261   -0.965705\n",
       "D   -0.271874   -1.114136    1.725899    0.467838    0.326419   -0.184502"
      ]
     },
     "execution_count": 19,
     "metadata": {},
     "output_type": "execute_result"
    }
   ],
   "source": [
    "#4->对数据的转置  df.T\n",
    "df.T"
   ]
  },
  {
   "cell_type": "code",
   "execution_count": 20,
   "metadata": {
    "collapsed": false
   },
   "outputs": [
    {
     "data": {
      "text/html": [
       "<div>\n",
       "<table border=\"1\" class=\"dataframe\">\n",
       "  <thead>\n",
       "    <tr style=\"text-align: right;\">\n",
       "      <th></th>\n",
       "      <th>D</th>\n",
       "      <th>C</th>\n",
       "      <th>B</th>\n",
       "      <th>A</th>\n",
       "    </tr>\n",
       "  </thead>\n",
       "  <tbody>\n",
       "    <tr>\n",
       "      <th>2018-01-01</th>\n",
       "      <td>-0.271874</td>\n",
       "      <td>0.555059</td>\n",
       "      <td>0.583533</td>\n",
       "      <td>1.662617</td>\n",
       "    </tr>\n",
       "    <tr>\n",
       "      <th>2018-01-02</th>\n",
       "      <td>-1.114136</td>\n",
       "      <td>-0.972340</td>\n",
       "      <td>-0.298014</td>\n",
       "      <td>0.256219</td>\n",
       "    </tr>\n",
       "    <tr>\n",
       "      <th>2018-01-03</th>\n",
       "      <td>1.725899</td>\n",
       "      <td>-0.347350</td>\n",
       "      <td>0.025582</td>\n",
       "      <td>0.210984</td>\n",
       "    </tr>\n",
       "    <tr>\n",
       "      <th>2018-01-04</th>\n",
       "      <td>0.467838</td>\n",
       "      <td>1.841906</td>\n",
       "      <td>-1.917292</td>\n",
       "      <td>-0.467886</td>\n",
       "    </tr>\n",
       "    <tr>\n",
       "      <th>2018-01-05</th>\n",
       "      <td>0.326419</td>\n",
       "      <td>1.107261</td>\n",
       "      <td>-1.225412</td>\n",
       "      <td>0.780441</td>\n",
       "    </tr>\n",
       "    <tr>\n",
       "      <th>2018-01-06</th>\n",
       "      <td>-0.184502</td>\n",
       "      <td>-0.965705</td>\n",
       "      <td>0.139376</td>\n",
       "      <td>-0.169321</td>\n",
       "    </tr>\n",
       "  </tbody>\n",
       "</table>\n",
       "</div>"
      ],
      "text/plain": [
       "                   D         C         B         A\n",
       "2018-01-01 -0.271874  0.555059  0.583533  1.662617\n",
       "2018-01-02 -1.114136 -0.972340 -0.298014  0.256219\n",
       "2018-01-03  1.725899 -0.347350  0.025582  0.210984\n",
       "2018-01-04  0.467838  1.841906 -1.917292 -0.467886\n",
       "2018-01-05  0.326419  1.107261 -1.225412  0.780441\n",
       "2018-01-06 -0.184502 -0.965705  0.139376 -0.169321"
      ]
     },
     "execution_count": 20,
     "metadata": {},
     "output_type": "execute_result"
    }
   ],
   "source": [
    "#5->按轴进行排序\n",
    "df.sort_index(axis=1, ascending=False)"
   ]
  },
  {
   "cell_type": "code",
   "execution_count": 21,
   "metadata": {
    "collapsed": false
   },
   "outputs": [
    {
     "name": "stderr",
     "output_type": "stream",
     "text": [
      "D:\\Anaconda3\\lib\\site-packages\\ipykernel\\__main__.py:2: FutureWarning: sort(columns=....) is deprecated, use sort_values(by=.....)\n",
      "  from ipykernel import kernelapp as app\n"
     ]
    },
    {
     "data": {
      "text/html": [
       "<div>\n",
       "<table border=\"1\" class=\"dataframe\">\n",
       "  <thead>\n",
       "    <tr style=\"text-align: right;\">\n",
       "      <th></th>\n",
       "      <th>A</th>\n",
       "      <th>B</th>\n",
       "      <th>C</th>\n",
       "      <th>D</th>\n",
       "    </tr>\n",
       "  </thead>\n",
       "  <tbody>\n",
       "    <tr>\n",
       "      <th>2018-01-04</th>\n",
       "      <td>-0.467886</td>\n",
       "      <td>-1.917292</td>\n",
       "      <td>1.841906</td>\n",
       "      <td>0.467838</td>\n",
       "    </tr>\n",
       "    <tr>\n",
       "      <th>2018-01-05</th>\n",
       "      <td>0.780441</td>\n",
       "      <td>-1.225412</td>\n",
       "      <td>1.107261</td>\n",
       "      <td>0.326419</td>\n",
       "    </tr>\n",
       "    <tr>\n",
       "      <th>2018-01-02</th>\n",
       "      <td>0.256219</td>\n",
       "      <td>-0.298014</td>\n",
       "      <td>-0.972340</td>\n",
       "      <td>-1.114136</td>\n",
       "    </tr>\n",
       "    <tr>\n",
       "      <th>2018-01-03</th>\n",
       "      <td>0.210984</td>\n",
       "      <td>0.025582</td>\n",
       "      <td>-0.347350</td>\n",
       "      <td>1.725899</td>\n",
       "    </tr>\n",
       "    <tr>\n",
       "      <th>2018-01-06</th>\n",
       "      <td>-0.169321</td>\n",
       "      <td>0.139376</td>\n",
       "      <td>-0.965705</td>\n",
       "      <td>-0.184502</td>\n",
       "    </tr>\n",
       "    <tr>\n",
       "      <th>2018-01-01</th>\n",
       "      <td>1.662617</td>\n",
       "      <td>0.583533</td>\n",
       "      <td>0.555059</td>\n",
       "      <td>-0.271874</td>\n",
       "    </tr>\n",
       "  </tbody>\n",
       "</table>\n",
       "</div>"
      ],
      "text/plain": [
       "                   A         B         C         D\n",
       "2018-01-04 -0.467886 -1.917292  1.841906  0.467838\n",
       "2018-01-05  0.780441 -1.225412  1.107261  0.326419\n",
       "2018-01-02  0.256219 -0.298014 -0.972340 -1.114136\n",
       "2018-01-03  0.210984  0.025582 -0.347350  1.725899\n",
       "2018-01-06 -0.169321  0.139376 -0.965705 -0.184502\n",
       "2018-01-01  1.662617  0.583533  0.555059 -0.271874"
      ]
     },
     "execution_count": 21,
     "metadata": {},
     "output_type": "execute_result"
    }
   ],
   "source": [
    "#6->按值进行排序\n",
    "df.sort(columns='B')"
   ]
  },
  {
   "cell_type": "code",
   "execution_count": null,
   "metadata": {
    "collapsed": true
   },
   "outputs": [],
   "source": []
  },
  {
   "cell_type": "code",
   "execution_count": 22,
   "metadata": {
    "collapsed": true
   },
   "outputs": [],
   "source": [
    "#选择    建议使用经过优化的pandas数据访问方式： .at, .iat, .loc, iloc 和 .ix"
   ]
  },
  {
   "cell_type": "code",
   "execution_count": 23,
   "metadata": {
    "collapsed": false
   },
   "outputs": [
    {
     "data": {
      "text/plain": [
       "2018-01-01    1.662617\n",
       "2018-01-02    0.256219\n",
       "2018-01-03    0.210984\n",
       "2018-01-04   -0.467886\n",
       "2018-01-05    0.780441\n",
       "2018-01-06   -0.169321\n",
       "Freq: D, Name: A, dtype: float64"
      ]
     },
     "execution_count": 23,
     "metadata": {},
     "output_type": "execute_result"
    }
   ],
   "source": [
    "#1->获取数据\n",
    "#1）-> 选择一个单独的列，将会返回一个Series, 等同于df.A\n",
    "df['A']"
   ]
  },
  {
   "cell_type": "code",
   "execution_count": 24,
   "metadata": {
    "collapsed": false
   },
   "outputs": [
    {
     "data": {
      "text/html": [
       "<div>\n",
       "<table border=\"1\" class=\"dataframe\">\n",
       "  <thead>\n",
       "    <tr style=\"text-align: right;\">\n",
       "      <th></th>\n",
       "      <th>A</th>\n",
       "      <th>B</th>\n",
       "      <th>C</th>\n",
       "      <th>D</th>\n",
       "    </tr>\n",
       "  </thead>\n",
       "  <tbody>\n",
       "    <tr>\n",
       "      <th>2018-01-01</th>\n",
       "      <td>1.662617</td>\n",
       "      <td>0.583533</td>\n",
       "      <td>0.555059</td>\n",
       "      <td>-0.271874</td>\n",
       "    </tr>\n",
       "    <tr>\n",
       "      <th>2018-01-02</th>\n",
       "      <td>0.256219</td>\n",
       "      <td>-0.298014</td>\n",
       "      <td>-0.972340</td>\n",
       "      <td>-1.114136</td>\n",
       "    </tr>\n",
       "    <tr>\n",
       "      <th>2018-01-03</th>\n",
       "      <td>0.210984</td>\n",
       "      <td>0.025582</td>\n",
       "      <td>-0.347350</td>\n",
       "      <td>1.725899</td>\n",
       "    </tr>\n",
       "  </tbody>\n",
       "</table>\n",
       "</div>"
      ],
      "text/plain": [
       "                   A         B         C         D\n",
       "2018-01-01  1.662617  0.583533  0.555059 -0.271874\n",
       "2018-01-02  0.256219 -0.298014 -0.972340 -1.114136\n",
       "2018-01-03  0.210984  0.025582 -0.347350  1.725899"
      ]
     },
     "execution_count": 24,
     "metadata": {},
     "output_type": "execute_result"
    }
   ],
   "source": [
    "#2)-> 通过[]进行选择, 这将会对“行”进行切片\n",
    "df[0:3]"
   ]
  },
  {
   "cell_type": "code",
   "execution_count": 25,
   "metadata": {
    "collapsed": false
   },
   "outputs": [
    {
     "data": {
      "text/html": [
       "<div>\n",
       "<table border=\"1\" class=\"dataframe\">\n",
       "  <thead>\n",
       "    <tr style=\"text-align: right;\">\n",
       "      <th></th>\n",
       "      <th>A</th>\n",
       "      <th>B</th>\n",
       "      <th>C</th>\n",
       "      <th>D</th>\n",
       "    </tr>\n",
       "  </thead>\n",
       "  <tbody>\n",
       "    <tr>\n",
       "      <th>2018-01-02</th>\n",
       "      <td>0.256219</td>\n",
       "      <td>-0.298014</td>\n",
       "      <td>-0.972340</td>\n",
       "      <td>-1.114136</td>\n",
       "    </tr>\n",
       "    <tr>\n",
       "      <th>2018-01-03</th>\n",
       "      <td>0.210984</td>\n",
       "      <td>0.025582</td>\n",
       "      <td>-0.347350</td>\n",
       "      <td>1.725899</td>\n",
       "    </tr>\n",
       "    <tr>\n",
       "      <th>2018-01-04</th>\n",
       "      <td>-0.467886</td>\n",
       "      <td>-1.917292</td>\n",
       "      <td>1.841906</td>\n",
       "      <td>0.467838</td>\n",
       "    </tr>\n",
       "    <tr>\n",
       "      <th>2018-01-05</th>\n",
       "      <td>0.780441</td>\n",
       "      <td>-1.225412</td>\n",
       "      <td>1.107261</td>\n",
       "      <td>0.326419</td>\n",
       "    </tr>\n",
       "    <tr>\n",
       "      <th>2018-01-06</th>\n",
       "      <td>-0.169321</td>\n",
       "      <td>0.139376</td>\n",
       "      <td>-0.965705</td>\n",
       "      <td>-0.184502</td>\n",
       "    </tr>\n",
       "  </tbody>\n",
       "</table>\n",
       "</div>"
      ],
      "text/plain": [
       "                   A         B         C         D\n",
       "2018-01-02  0.256219 -0.298014 -0.972340 -1.114136\n",
       "2018-01-03  0.210984  0.025582 -0.347350  1.725899\n",
       "2018-01-04 -0.467886 -1.917292  1.841906  0.467838\n",
       "2018-01-05  0.780441 -1.225412  1.107261  0.326419\n",
       "2018-01-06 -0.169321  0.139376 -0.965705 -0.184502"
      ]
     },
     "execution_count": 25,
     "metadata": {},
     "output_type": "execute_result"
    }
   ],
   "source": [
    "df['20180102':'20180204']"
   ]
  },
  {
   "cell_type": "code",
   "execution_count": 26,
   "metadata": {
    "collapsed": false
   },
   "outputs": [
    {
     "data": {
      "text/html": [
       "<div>\n",
       "<table border=\"1\" class=\"dataframe\">\n",
       "  <thead>\n",
       "    <tr style=\"text-align: right;\">\n",
       "      <th></th>\n",
       "      <th>A</th>\n",
       "      <th>B</th>\n",
       "      <th>C</th>\n",
       "      <th>D</th>\n",
       "    </tr>\n",
       "  </thead>\n",
       "  <tbody>\n",
       "    <tr>\n",
       "      <th>2018-01-02</th>\n",
       "      <td>0.256219</td>\n",
       "      <td>-0.298014</td>\n",
       "      <td>-0.972340</td>\n",
       "      <td>-1.114136</td>\n",
       "    </tr>\n",
       "    <tr>\n",
       "      <th>2018-01-03</th>\n",
       "      <td>0.210984</td>\n",
       "      <td>0.025582</td>\n",
       "      <td>-0.347350</td>\n",
       "      <td>1.725899</td>\n",
       "    </tr>\n",
       "    <tr>\n",
       "      <th>2018-01-04</th>\n",
       "      <td>-0.467886</td>\n",
       "      <td>-1.917292</td>\n",
       "      <td>1.841906</td>\n",
       "      <td>0.467838</td>\n",
       "    </tr>\n",
       "  </tbody>\n",
       "</table>\n",
       "</div>"
      ],
      "text/plain": [
       "                   A         B         C         D\n",
       "2018-01-02  0.256219 -0.298014 -0.972340 -1.114136\n",
       "2018-01-03  0.210984  0.025582 -0.347350  1.725899\n",
       "2018-01-04 -0.467886 -1.917292  1.841906  0.467838"
      ]
     },
     "execution_count": 26,
     "metadata": {},
     "output_type": "execute_result"
    }
   ],
   "source": [
    "df['20180102':'20180104']"
   ]
  },
  {
   "cell_type": "code",
   "execution_count": 28,
   "metadata": {
    "collapsed": false
   },
   "outputs": [
    {
     "data": {
      "text/plain": [
       "A    1.662617\n",
       "B    0.583533\n",
       "C    0.555059\n",
       "D   -0.271874\n",
       "Name: 2018-01-01 00:00:00, dtype: float64"
      ]
     },
     "execution_count": 28,
     "metadata": {},
     "output_type": "execute_result"
    }
   ],
   "source": [
    "#2-> 通过标签进行选择  .loc[]\n",
    "#1)-> 使用一个标签来获取一个交叉的区域\n",
    "df.loc[dates[0]]"
   ]
  },
  {
   "cell_type": "code",
   "execution_count": 29,
   "metadata": {
    "collapsed": false
   },
   "outputs": [
    {
     "data": {
      "text/html": [
       "<div>\n",
       "<table border=\"1\" class=\"dataframe\">\n",
       "  <thead>\n",
       "    <tr style=\"text-align: right;\">\n",
       "      <th></th>\n",
       "      <th>A</th>\n",
       "      <th>B</th>\n",
       "    </tr>\n",
       "  </thead>\n",
       "  <tbody>\n",
       "    <tr>\n",
       "      <th>2018-01-01</th>\n",
       "      <td>1.662617</td>\n",
       "      <td>0.583533</td>\n",
       "    </tr>\n",
       "    <tr>\n",
       "      <th>2018-01-02</th>\n",
       "      <td>0.256219</td>\n",
       "      <td>-0.298014</td>\n",
       "    </tr>\n",
       "    <tr>\n",
       "      <th>2018-01-03</th>\n",
       "      <td>0.210984</td>\n",
       "      <td>0.025582</td>\n",
       "    </tr>\n",
       "    <tr>\n",
       "      <th>2018-01-04</th>\n",
       "      <td>-0.467886</td>\n",
       "      <td>-1.917292</td>\n",
       "    </tr>\n",
       "    <tr>\n",
       "      <th>2018-01-05</th>\n",
       "      <td>0.780441</td>\n",
       "      <td>-1.225412</td>\n",
       "    </tr>\n",
       "    <tr>\n",
       "      <th>2018-01-06</th>\n",
       "      <td>-0.169321</td>\n",
       "      <td>0.139376</td>\n",
       "    </tr>\n",
       "  </tbody>\n",
       "</table>\n",
       "</div>"
      ],
      "text/plain": [
       "                   A         B\n",
       "2018-01-01  1.662617  0.583533\n",
       "2018-01-02  0.256219 -0.298014\n",
       "2018-01-03  0.210984  0.025582\n",
       "2018-01-04 -0.467886 -1.917292\n",
       "2018-01-05  0.780441 -1.225412\n",
       "2018-01-06 -0.169321  0.139376"
      ]
     },
     "execution_count": 29,
     "metadata": {},
     "output_type": "execute_result"
    }
   ],
   "source": [
    "#2)-> 通过标签来在多个轴上进行选择\n",
    "df.loc[:, ['A','B']]"
   ]
  },
  {
   "cell_type": "code",
   "execution_count": 30,
   "metadata": {
    "collapsed": false
   },
   "outputs": [
    {
     "data": {
      "text/html": [
       "<div>\n",
       "<table border=\"1\" class=\"dataframe\">\n",
       "  <thead>\n",
       "    <tr style=\"text-align: right;\">\n",
       "      <th></th>\n",
       "      <th>A</th>\n",
       "      <th>B</th>\n",
       "    </tr>\n",
       "  </thead>\n",
       "  <tbody>\n",
       "    <tr>\n",
       "      <th>2018-01-01</th>\n",
       "      <td>1.662617</td>\n",
       "      <td>0.583533</td>\n",
       "    </tr>\n",
       "    <tr>\n",
       "      <th>2018-01-02</th>\n",
       "      <td>0.256219</td>\n",
       "      <td>-0.298014</td>\n",
       "    </tr>\n",
       "    <tr>\n",
       "      <th>2018-01-03</th>\n",
       "      <td>0.210984</td>\n",
       "      <td>0.025582</td>\n",
       "    </tr>\n",
       "    <tr>\n",
       "      <th>2018-01-04</th>\n",
       "      <td>-0.467886</td>\n",
       "      <td>-1.917292</td>\n",
       "    </tr>\n",
       "    <tr>\n",
       "      <th>2018-01-05</th>\n",
       "      <td>0.780441</td>\n",
       "      <td>-1.225412</td>\n",
       "    </tr>\n",
       "    <tr>\n",
       "      <th>2018-01-06</th>\n",
       "      <td>-0.169321</td>\n",
       "      <td>0.139376</td>\n",
       "    </tr>\n",
       "  </tbody>\n",
       "</table>\n",
       "</div>"
      ],
      "text/plain": [
       "                   A         B\n",
       "2018-01-01  1.662617  0.583533\n",
       "2018-01-02  0.256219 -0.298014\n",
       "2018-01-03  0.210984  0.025582\n",
       "2018-01-04 -0.467886 -1.917292\n",
       "2018-01-05  0.780441 -1.225412\n",
       "2018-01-06 -0.169321  0.139376"
      ]
     },
     "execution_count": 30,
     "metadata": {},
     "output_type": "execute_result"
    }
   ],
   "source": [
    "#3)-> 标签切片\n",
    "df.loc[:, ['A', 'B']]"
   ]
  },
  {
   "cell_type": "code",
   "execution_count": 31,
   "metadata": {
    "collapsed": false
   },
   "outputs": [
    {
     "data": {
      "text/plain": [
       "A    0.256219\n",
       "B   -0.298014\n",
       "Name: 2018-01-02 00:00:00, dtype: float64"
      ]
     },
     "execution_count": 31,
     "metadata": {},
     "output_type": "execute_result"
    }
   ],
   "source": [
    "#4)->对于返回的对象进行维度缩减\n",
    "df.loc['20180102', ['A', 'B']]"
   ]
  },
  {
   "cell_type": "code",
   "execution_count": 32,
   "metadata": {
    "collapsed": false
   },
   "outputs": [
    {
     "data": {
      "text/plain": [
       "1.6626172910382984"
      ]
     },
     "execution_count": 32,
     "metadata": {},
     "output_type": "execute_result"
    }
   ],
   "source": [
    "#5-> 获取一个标量\n",
    "df.loc[dates[0], 'A']"
   ]
  },
  {
   "cell_type": "code",
   "execution_count": 33,
   "metadata": {
    "collapsed": false
   },
   "outputs": [
    {
     "data": {
      "text/plain": [
       "1.6626172910382984"
      ]
     },
     "execution_count": 33,
     "metadata": {},
     "output_type": "execute_result"
    }
   ],
   "source": [
    "#6-> 快速访问一个标量\n",
    "df.at[dates[0], 'A']"
   ]
  },
  {
   "cell_type": "code",
   "execution_count": null,
   "metadata": {
    "collapsed": true
   },
   "outputs": [],
   "source": []
  }
 ],
 "metadata": {
  "anaconda-cloud": {},
  "kernelspec": {
   "display_name": "Python [default]",
   "language": "python",
   "name": "python3"
  },
  "language_info": {
   "codemirror_mode": {
    "name": "ipython",
    "version": 3
   },
   "file_extension": ".py",
   "mimetype": "text/x-python",
   "name": "python",
   "nbconvert_exporter": "python",
   "pygments_lexer": "ipython3",
   "version": "3.5.2"
  }
 },
 "nbformat": 4,
 "nbformat_minor": 1
}
